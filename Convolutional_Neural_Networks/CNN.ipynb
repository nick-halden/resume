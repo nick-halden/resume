{
 "cells": [
  {
   "cell_type": "markdown",
   "metadata": {},
   "source": [
    "# Convolutional Neural Networks"
   ]
  },
  {
   "cell_type": "markdown",
   "metadata": {},
   "source": [
    "Convolutional Neural Networks (CNN) can be used for image classification (as in part 1 of this notebook) or for image noise reduction (as in part 2 of this notebook). For the former we use CNNs as normal classification functions as in an supervised learning problem. For the latter we use CNNs as autoencoders as in an unsupervised learning problem."
   ]
  },
  {
   "cell_type": "markdown",
   "metadata": {},
   "source": [
    "### Auxiliary Functions"
   ]
  },
  {
   "cell_type": "code",
   "execution_count": 1,
   "metadata": {},
   "outputs": [],
   "source": [
    "import matplotlib.pyplot as plt\n",
    "import numpy as np\n",
    "import tensorflow as tf\n",
    "from numpy.random import randint\n",
    "from tensorflow.keras.layers import (Activation, Conv2D, Conv2DTranspose,\n",
    "                                     Dense, Dropout, Flatten, MaxPooling2D)\n",
    "from tensorflow.keras.models import Sequential"
   ]
  },
  {
   "cell_type": "code",
   "execution_count": 2,
   "metadata": {},
   "outputs": [],
   "source": [
    "def plt_img(vector, title=None, color=\"black\", pos=None, img_shape=(28, 28, 1)):\n",
    "    \"\"\"Auxiliary function for plotting images.\n",
    "\n",
    "    Args:\n",
    "        vector (np.array): Array with shape (d,).\n",
    "        title (str, optional): Title to be displayed above image. Defaults to None.\n",
    "        color (str, optional): Color of title. Defaults to \"black\".\n",
    "        pos (tuple, optional): (n_row, n_col, number) if more than one image should be plotted. Defaults to None.\n",
    "        img_shape (tuple, optional): Shape of image. Defaults to (28, 28, 1).\n",
    "    \"\"\"\n",
    "    if pos:\n",
    "        plt.subplot(pos[0], pos[1], pos[2])\n",
    "    if title:\n",
    "        plt.title(title, color=color)\n",
    "    plt.imshow(vector.reshape(img_shape), cmap='gray_r')\n",
    "    plt.axis('off')"
   ]
  },
  {
   "cell_type": "code",
   "execution_count": 3,
   "metadata": {},
   "outputs": [],
   "source": [
    "def plt_imgs(array1, array2, n=10):\n",
    "    \"\"\"Auxiliary function for plotting pairs of images.\n",
    "\n",
    "    Args:\n",
    "        array1 (np.array): Images to draw left image from.\n",
    "        array2 (np.array): Images to draw right array from.\n",
    "        n (int, optional): Number of pairs to plot. Defaults to 10.\n",
    "    \"\"\"\n",
    "    indices = np.random.randint(len(array1), size=n)\n",
    "    imgs1 = array1[indices, :]\n",
    "    imgs2 = array2[indices, :]\n",
    "\n",
    "    plt.figure(figsize=(2*n, 4))\n",
    "    for i, (img1, img2) in enumerate(zip(imgs1, imgs2)):\n",
    "        ax = plt.subplot(2, n, i + 1)\n",
    "        plt_img(img1)\n",
    "\n",
    "        ax = plt.subplot(2, n, i + 1 + n)\n",
    "        plt_img(img2)\n",
    "\n",
    "    plt.show()"
   ]
  },
  {
   "cell_type": "markdown",
   "metadata": {},
   "source": [
    "## Load and Prepare Data"
   ]
  },
  {
   "cell_type": "markdown",
   "metadata": {},
   "source": [
    "One can use the MNIST or the Fashion-MNIST dataset. "
   ]
  },
  {
   "cell_type": "code",
   "execution_count": 4,
   "metadata": {},
   "outputs": [],
   "source": [
    "# load data\n",
    "# mnist = tf.keras.datasets.mnist\n",
    "# (x, y), (x_test, y_test) = mnist.load_data()\n",
    "# classes = np.array([i for i in range(10)])"
   ]
  },
  {
   "cell_type": "code",
   "execution_count": 5,
   "metadata": {},
   "outputs": [],
   "source": [
    "# fashion_mnist\n",
    "fashion_mnist = tf.keras.datasets.fashion_mnist\n",
    "(x, y), (x_test, y_test) = fashion_mnist.load_data()\n",
    "classes = np.array(['T-shirt/top', 'Trouser', 'Pullover', 'Dress', 'Coat', 'Sandal', 'Shirt', 'Sneaker', 'Bag', 'Ankle boot'])"
   ]
  },
  {
   "cell_type": "code",
   "execution_count": 6,
   "metadata": {},
   "outputs": [
    {
     "name": "stdout",
     "output_type": "stream",
     "text": [
      "Original data:\n",
      "x.shape      = (60000, 28, 28)\n",
      "y.shape      = (60000,)\n",
      "x_test.shape = (10000, 28, 28)\n",
      "y_test.shape = (10000,)\n",
      "x.dtype      = uint8\n",
      "Domain of x-data: [0, 255]\n",
      "y.dtype      = uint8\n",
      "Domain of y-data: {0, 1, 2, 3, 4, 5, 6, 7, 8, 9}\n"
     ]
    }
   ],
   "source": [
    "# describe the original data\n",
    "description = f'''Original data:\n",
    "x.shape      = {x.shape}\n",
    "y.shape      = {y.shape}\n",
    "x_test.shape = {x_test.shape}\n",
    "y_test.shape = {y_test.shape}\n",
    "x.dtype      = {x.dtype}\n",
    "Domain of x-data: [{np.min(x)}, {np.max(x)}]\n",
    "y.dtype      = {y.dtype}\n",
    "Domain of y-data: {set(np.unique(y))}'''\n",
    "print(description)"
   ]
  },
  {
   "cell_type": "code",
   "execution_count": 7,
   "metadata": {},
   "outputs": [],
   "source": [
    "# prepare the data\n",
    "n, n_test = x.shape[0], x_test.shape[0]\n",
    "x, x_test = x/255.0, x_test/255.0 # scale\n",
    "x = x.reshape(60000, 28, 28, 1)\n",
    "x_test = x_test.reshape(10000, 28, 28, 1)"
   ]
  },
  {
   "cell_type": "code",
   "execution_count": 8,
   "metadata": {},
   "outputs": [
    {
     "name": "stdout",
     "output_type": "stream",
     "text": [
      "prepared x-data:\n",
      "x.shape      = (60000, 28, 28, 1)\n",
      "x_test.shape = (10000, 28, 28, 1)\n",
      "x.dtype      = float64\n",
      "Domain x-data: [0.0, 1.0]\n"
     ]
    }
   ],
   "source": [
    "description = f'''Prepared x-data:\n",
    "x.shape      = {x.shape}\n",
    "x_test.shape = {x_test.shape}\n",
    "x.dtype      = {x.dtype}\n",
    "Domain x-data: [{np.min(x)}, {np.max(x)}]'''\n",
    "print(description)"
   ]
  },
  {
   "cell_type": "code",
   "execution_count": 9,
   "metadata": {},
   "outputs": [
    {
     "data": {
      "image/png": "[encoded data removed]",
      "text/plain": [
       "<Figure size 432x288 with 1 Axes>"
      ]
     },
     "metadata": {
      "needs_background": "light"
     },
     "output_type": "display_data"
    }
   ],
   "source": [
    "# plot random sample from x-data\n",
    "r = randint(x.shape[0])\n",
    "plt_img(x[r,:,:,0], title=y[r])"
   ]
  },
  {
   "cell_type": "markdown",
   "metadata": {},
   "source": [
    "# CNNs for Image Classification"
   ]
  },
  {
   "cell_type": "markdown",
   "metadata": {},
   "source": [
    "## Build CNN"
   ]
  },
  {
   "cell_type": "markdown",
   "metadata": {},
   "source": [
    "Model consisting of two conv2D layers each followed by a pooling layer."
   ]
  },
  {
   "cell_type": "code",
   "execution_count": 10,
   "metadata": {},
   "outputs": [
    {
     "name": "stdout",
     "output_type": "stream",
     "text": [
      "Model: \"sequential\"\n",
      "_________________________________________________________________\n",
      "Layer (type)                 Output Shape              Param #   \n",
      "=================================================================\n",
      "conv2d (Conv2D)              (None, 28, 28, 32)        288       \n",
      "_________________________________________________________________\n",
      "max_pooling2d (MaxPooling2D) (None, 14, 14, 32)        0         \n",
      "_________________________________________________________________\n",
      "conv2d_1 (Conv2D)            (None, 14, 14, 64)        18432     \n",
      "_________________________________________________________________\n",
      "max_pooling2d_1 (MaxPooling2 (None, 7, 7, 64)          0         \n",
      "_________________________________________________________________\n",
      "flatten (Flatten)            (None, 3136)              0         \n",
      "_________________________________________________________________\n",
      "dense (Dense)                (None, 10)                31360     \n",
      "=================================================================\n",
      "Total params: 50,080\n",
      "Trainable params: 50,080\n",
      "Non-trainable params: 0\n",
      "_________________________________________________________________\n"
     ]
    }
   ],
   "source": [
    "model = Sequential()\n",
    "model.add(Conv2D(32, (3,3), strides = 1, padding = \"same\", use_bias=False, activation = 'relu', input_shape = (28, 28, 1)))\n",
    "model.add(MaxPooling2D((2, 2)))\n",
    "model.add(Conv2D(64, (3,3), strides = 1, padding = \"same\", use_bias=False, activation = 'relu'))\n",
    "model.add(MaxPooling2D((2, 2)))\n",
    "model.add(Flatten())\n",
    "model.add(Dense(10, use_bias=False, activation='softmax'))  # 10 classes. softmax creates probability-vectors\n",
    "\n",
    "model.summary()"
   ]
  },
  {
   "cell_type": "markdown",
   "metadata": {},
   "source": [
    "Compile the model with SC-Crossentropy as loss-function and momentum-free Stochastic Gradient Descent as optimizer. "
   ]
  },
  {
   "cell_type": "code",
   "execution_count": 11,
   "metadata": {},
   "outputs": [],
   "source": [
    "model.compile(loss = tf.keras.losses.SparseCategoricalCrossentropy(), \n",
    "              optimizer = tf.keras.optimizers.SGD(learning_rate=0.2, momentum=0), \n",
    "              metrics = [\"accuracy\"])"
   ]
  },
  {
   "cell_type": "markdown",
   "metadata": {},
   "source": [
    "Train the model with 8 epochs using a batch size of 32."
   ]
  },
  {
   "cell_type": "code",
   "execution_count": 12,
   "metadata": {},
   "outputs": [
    {
     "name": "stdout",
     "output_type": "stream",
     "text": [
      "Train on 60000 samples, validate on 10000 samples\n",
      "Epoch 1/8\n",
      "60000/60000 [==============================] - 68s 1ms/sample - loss: 0.4556 - accuracy: 0.8400 - val_loss: 0.3994 - val_accuracy: 0.8626\n",
      "Epoch 2/8\n",
      "60000/60000 [==============================] - 64s 1ms/sample - loss: 0.3063 - accuracy: 0.8917 - val_loss: 0.3158 - val_accuracy: 0.8878\n",
      "Epoch 3/8\n",
      "60000/60000 [==============================] - 66s 1ms/sample - loss: 0.2718 - accuracy: 0.9043 - val_loss: 0.2832 - val_accuracy: 0.8972\n",
      "Epoch 4/8\n",
      "60000/60000 [==============================] - 60s 1ms/sample - loss: 0.2486 - accuracy: 0.9115 - val_loss: 0.2842 - val_accuracy: 0.9018\n",
      "Epoch 5/8\n",
      "60000/60000 [==============================] - 61s 1ms/sample - loss: 0.2322 - accuracy: 0.9179 - val_loss: 0.2906 - val_accuracy: 0.9018\n",
      "Epoch 6/8\n",
      "60000/60000 [==============================] - 60s 1ms/sample - loss: 0.2185 - accuracy: 0.9224 - val_loss: 0.2766 - val_accuracy: 0.9056\n",
      "Epoch 7/8\n",
      "60000/60000 [==============================] - 60s 995us/sample - loss: 0.2075 - accuracy: 0.9259 - val_loss: 0.2870 - val_accuracy: 0.9029\n",
      "Epoch 8/8\n",
      "60000/60000 [==============================] - 59s 991us/sample - loss: 0.1992 - accuracy: 0.9292 - val_loss: 0.3069 - val_accuracy: 0.9001\n"
     ]
    },
    {
     "data": {
      "text/plain": [
       "<tensorflow.python.keras.callbacks.History at 0x26d9a8ac748>"
      ]
     },
     "execution_count": 12,
     "metadata": {},
     "output_type": "execute_result"
    }
   ],
   "source": [
    "model.fit(x, y, \n",
    "          epochs = 8, \n",
    "          validation_data = (x_test, y_test), \n",
    "          batch_size = 32)"
   ]
  },
  {
   "cell_type": "markdown",
   "metadata": {},
   "source": [
    "Calculate accuracy of model on training data and test data."
   ]
  },
  {
   "cell_type": "code",
   "execution_count": 13,
   "metadata": {},
   "outputs": [
    {
     "name": "stdout",
     "output_type": "stream",
     "text": [
      "train accuracy: 0.93\n",
      "test  accuracy: 0.9001\n"
     ]
    }
   ],
   "source": [
    "train_prediction = model.predict(x)\n",
    "train_accuracy = np.mean(y==np.argmax(train_prediction, axis=1))\n",
    "\n",
    "test_prediction = model.predict(x_test)\n",
    "test_accuracy = np.mean(y_test==np.argmax(test_prediction, axis=1))\n",
    "\n",
    "print(f'train accuracy: {train_accuracy}\\ntest  accuracy: {test_accuracy}')"
   ]
  },
  {
   "cell_type": "markdown",
   "metadata": {},
   "source": [
    "Plot samples with prediction."
   ]
  },
  {
   "cell_type": "code",
   "execution_count": 14,
   "metadata": {},
   "outputs": [
    {
     "data": {
      "image/png": "[encoded data removed]",
      "text/plain": [
       "<Figure size 1296x1296 with 16 Axes>"
      ]
     },
     "metadata": {
      "needs_background": "light"
     },
     "output_type": "display_data"
    }
   ],
   "source": [
    "plt.figure(figsize=(18,18))\n",
    "for i in range(16):\n",
    "    plt.subplot(4,4,i+1)\n",
    "    j = np.random.randint(n_test)\n",
    "    title_text = f'true: {classes[y_test[j]]} \\n pred: {classes[np.argmax(test_prediction[j])]}'\n",
    "    title_color = \"black\" if (y_test[j] == np.argmax(test_prediction[j])) else \"red\"\n",
    "    plt_img(x_test[j,:,:] , title=title_text, color=title_color)\n",
    "    plt.axis('off')\n",
    "plt.show()"
   ]
  },
  {
   "cell_type": "markdown",
   "metadata": {},
   "source": [
    "## Build Simple Model"
   ]
  },
  {
   "cell_type": "markdown",
   "metadata": {},
   "source": [
    "Model consisting of two dense layers of size 64 and 10 with activation functions _relu_ and _softmax_."
   ]
  },
  {
   "cell_type": "code",
   "execution_count": 15,
   "metadata": {},
   "outputs": [
    {
     "name": "stdout",
     "output_type": "stream",
     "text": [
      "Model: \"sequential_1\"\n",
      "_________________________________________________________________\n",
      "Layer (type)                 Output Shape              Param #   \n",
      "=================================================================\n",
      "flatten_1 (Flatten)          (None, 784)               0         \n",
      "_________________________________________________________________\n",
      "dense_1 (Dense)              (None, 64)                50176     \n",
      "_________________________________________________________________\n",
      "dense_2 (Dense)              (None, 10)                640       \n",
      "=================================================================\n",
      "Total params: 50,816\n",
      "Trainable params: 50,816\n",
      "Non-trainable params: 0\n",
      "_________________________________________________________________\n"
     ]
    }
   ],
   "source": [
    "simple_model = Sequential()\n",
    "simple_model.add(Flatten(input_shape = (28, 28, 1)))\n",
    "simple_model.add(Dense(64, use_bias=False, activation=\"relu\"))\n",
    "simple_model.add(Dense(10, use_bias=False, activation='softmax'))\n",
    "\n",
    "simple_model.summary()"
   ]
  },
  {
   "cell_type": "markdown",
   "metadata": {},
   "source": [
    "Compile the model with SC-Crossentropy as loss-function and momentum-free Stochastic Gradient Descent as optimizer."
   ]
  },
  {
   "cell_type": "code",
   "execution_count": 16,
   "metadata": {},
   "outputs": [],
   "source": [
    "simple_model.compile(loss = tf.keras.losses.SparseCategoricalCrossentropy(),\n",
    "                     optimizer = tf.keras.optimizers.SGD(learning_rate=0.1, momentum=0.0),\n",
    "                     metrics = [\"accuracy\"])"
   ]
  },
  {
   "cell_type": "markdown",
   "metadata": {},
   "source": [
    "Train the model with 8 epochs using a batch size of 32."
   ]
  },
  {
   "cell_type": "code",
   "execution_count": 17,
   "metadata": {},
   "outputs": [
    {
     "name": "stdout",
     "output_type": "stream",
     "text": [
      "Train on 60000 samples, validate on 10000 samples\n",
      "Epoch 1/8\n",
      "60000/60000 [==============================] - 8s 134us/sample - loss: 0.5573 - accuracy: 0.8009 - val_loss: 0.4948 - val_accuracy: 0.8253\n",
      "Epoch 2/8\n",
      "60000/60000 [==============================] - 7s 123us/sample - loss: 0.4144 - accuracy: 0.8504 - val_loss: 0.4143 - val_accuracy: 0.8510\n",
      "Epoch 3/8\n",
      "60000/60000 [==============================] - 7s 119us/sample - loss: 0.3789 - accuracy: 0.8635 - val_loss: 0.4063 - val_accuracy: 0.8562\n",
      "Epoch 4/8\n",
      "60000/60000 [==============================] - 7s 125us/sample - loss: 0.3545 - accuracy: 0.8718 - val_loss: 0.3939 - val_accuracy: 0.8585\n",
      "Epoch 5/8\n",
      "60000/60000 [==============================] - 7s 121us/sample - loss: 0.3375 - accuracy: 0.8770 - val_loss: 0.3977 - val_accuracy: 0.8577\n",
      "Epoch 6/8\n",
      "60000/60000 [==============================] - 7s 120us/sample - loss: 0.3243 - accuracy: 0.8819 - val_loss: 0.4071 - val_accuracy: 0.8568\n",
      "Epoch 7/8\n",
      "60000/60000 [==============================] - 7s 117us/sample - loss: 0.3130 - accuracy: 0.8848 - val_loss: 0.3802 - val_accuracy: 0.8613\n",
      "Epoch 8/8\n",
      "60000/60000 [==============================] - 7s 113us/sample - loss: 0.3051 - accuracy: 0.8889 - val_loss: 0.3641 - val_accuracy: 0.8710\n"
     ]
    },
    {
     "data": {
      "text/plain": [
       "<tensorflow.python.keras.callbacks.History at 0x26d9bbc4208>"
      ]
     },
     "execution_count": 17,
     "metadata": {},
     "output_type": "execute_result"
    }
   ],
   "source": [
    "simple_model.fit(x, y,\n",
    "                 epochs = 8,\n",
    "                 validation_data = (x_test, y_test),\n",
    "                 batch_size = 32)"
   ]
  },
  {
   "cell_type": "markdown",
   "metadata": {},
   "source": [
    "Calculate accuracy of model on training data and test data."
   ]
  },
  {
   "cell_type": "code",
   "execution_count": 18,
   "metadata": {},
   "outputs": [
    {
     "name": "stdout",
     "output_type": "stream",
     "text": [
      "train accuracy: 0.8957333333333334\n",
      "test  accuracy: 0.871\n"
     ]
    }
   ],
   "source": [
    "train_prediction_simple = simple_model.predict(x)\n",
    "train_accuracy_simple = np.mean(y==np.argmax(train_prediction_simple, axis=1))\n",
    "\n",
    "test_prediction_simple = simple_model.predict(x_test)\n",
    "test_accuracy_simple = np.mean(y_test==np.argmax(test_prediction_simple, axis=1))\n",
    "\n",
    "print(f'train accuracy: {train_accuracy_simple}\\ntest  accuracy: {test_accuracy_simple}')"
   ]
  },
  {
   "cell_type": "markdown",
   "metadata": {},
   "source": [
    "# CNNs for Image Noise Reduction"
   ]
  },
  {
   "cell_type": "markdown",
   "metadata": {},
   "source": [
    "## Build Autoencoder using CNNs"
   ]
  },
  {
   "cell_type": "markdown",
   "metadata": {},
   "source": [
    "Now we use CNNs for image noise reduction. We make use of the Autoencoder framework. The Encoder as well as the Decoder is build using CNNs."
   ]
  },
  {
   "cell_type": "code",
   "execution_count": 19,
   "metadata": {},
   "outputs": [
    {
     "name": "stdout",
     "output_type": "stream",
     "text": [
      "Model: \"sequential_2\"\n",
      "_________________________________________________________________\n",
      "Layer (type)                 Output Shape              Param #   \n",
      "=================================================================\n",
      "conv2d_2 (Conv2D)            (None, 28, 28, 32)        320       \n",
      "_________________________________________________________________\n",
      "max_pooling2d_2 (MaxPooling2 (None, 14, 14, 32)        0         \n",
      "_________________________________________________________________\n",
      "conv2d_3 (Conv2D)            (None, 14, 14, 32)        9248      \n",
      "_________________________________________________________________\n",
      "max_pooling2d_3 (MaxPooling2 (None, 7, 7, 32)          0         \n",
      "_________________________________________________________________\n",
      "conv2d_transpose (Conv2DTran (None, 14, 14, 32)        9248      \n",
      "_________________________________________________________________\n",
      "conv2d_transpose_1 (Conv2DTr (None, 28, 28, 32)        9248      \n",
      "_________________________________________________________________\n",
      "conv2d_4 (Conv2D)            (None, 28, 28, 1)         289       \n",
      "=================================================================\n",
      "Total params: 28,353\n",
      "Trainable params: 28,353\n",
      "Non-trainable params: 0\n",
      "_________________________________________________________________\n"
     ]
    }
   ],
   "source": [
    "# Encoder\n",
    "encoder = [\n",
    "    Conv2D(32, (3,3),\n",
    "           strides = 1,\n",
    "           padding = \"same\",\n",
    "           activation = 'relu',\n",
    "           input_shape = (28, 28, 1)\n",
    "          ),\n",
    "    MaxPooling2D((2, 2),\n",
    "                 padding=\"same\"\n",
    "                ),\n",
    "    Conv2D(32, (3,3),\n",
    "           strides = 1,\n",
    "           padding = \"same\",\n",
    "           activation = 'relu'\n",
    "          ),\n",
    "    MaxPooling2D((2, 2),\n",
    "                 padding=\"same\"\n",
    "                )\n",
    "]\n",
    "# Decoder\n",
    "decoder = [\n",
    "    Conv2DTranspose(32, (3, 3),\n",
    "                    strides=2,\n",
    "                    activation=\"relu\",\n",
    "                    padding=\"same\"\n",
    "                   ),\n",
    "    Conv2DTranspose(32, (3, 3),\n",
    "                    strides=2,\n",
    "                    activation=\"relu\",\n",
    "                    padding=\"same\"\n",
    "                   ),\n",
    "    Conv2D(1, (3, 3),\n",
    "           activation=\"sigmoid\",\n",
    "           padding=\"same\"\n",
    "          )\n",
    "]\n",
    "\n",
    "layers = encoder + decoder\n",
    "\n",
    "autoencoder = Sequential(layers)\n",
    "autoencoder.compile(optimizer=\"adam\", loss=\"binary_crossentropy\")\n",
    "autoencoder.build()\n",
    "autoencoder.summary()"
   ]
  },
  {
   "cell_type": "code",
   "execution_count": 20,
   "metadata": {},
   "outputs": [
    {
     "name": "stdout",
     "output_type": "stream",
     "text": [
      "Train on 60000 samples, validate on 10000 samples\n",
      "60000/60000 [==============================] - 122s 2ms/sample - loss: 0.3055 - val_loss: 0.2726\n"
     ]
    },
    {
     "data": {
      "text/plain": [
       "<tensorflow.python.keras.callbacks.History at 0x26d9c1ec288>"
      ]
     },
     "execution_count": 20,
     "metadata": {},
     "output_type": "execute_result"
    }
   ],
   "source": [
    "autoencoder.fit(x, x, epochs = 1, validation_data = (x_test, x_test), batch_size = 128)"
   ]
  },
  {
   "cell_type": "code",
   "execution_count": 21,
   "metadata": {},
   "outputs": [],
   "source": [
    "def display(array1, array2, indices):\n",
    "    \n",
    "    n = len(indices)\n",
    "    images1 = array1[indices, :]\n",
    "    images2 = array2[indices, :]\n",
    "\n",
    "    plt.figure(figsize=(20, 4))\n",
    "    for i, (image1, image2) in enumerate(zip(images1, images2)):\n",
    "        ax = plt.subplot(2, n, i + 1)\n",
    "        plt.imshow(image1.reshape(28, 28))\n",
    "        plt.gray()\n",
    "        ax.get_xaxis().set_visible(False)\n",
    "        ax.get_yaxis().set_visible(False)\n",
    "\n",
    "        ax = plt.subplot(2, n, i + 1 + n)\n",
    "        plt.imshow(image2.reshape(28, 28))\n",
    "        plt.gray()\n",
    "        ax.get_xaxis().set_visible(False)\n",
    "        ax.get_yaxis().set_visible(False)\n",
    "\n",
    "    plt.show()\n",
    "\n",
    "def noise(array):\n",
    "    noise_factor = 0.3\n",
    "    noisy_array = array + noise_factor * np.random.normal(\n",
    "        loc=0.0, scale=1.0, size=array.shape\n",
    "    )\n",
    "\n",
    "    return np.clip(noisy_array, 0.0, 1.0)"
   ]
  },
  {
   "cell_type": "code",
   "execution_count": 22,
   "metadata": {},
   "outputs": [],
   "source": [
    "indices = np.random.randint(len(x_test), size=n)"
   ]
  },
  {
   "cell_type": "code",
   "execution_count": null,
   "metadata": {},
   "outputs": [],
   "source": [
    "predictions = autoencoder.predict(x_test)\n",
    "display(x_test, predictions, indices)"
   ]
  },
  {
   "cell_type": "code",
   "execution_count": null,
   "metadata": {},
   "outputs": [],
   "source": [
    "x_test_noise = noise(x_test)\n",
    "display(x_test, x_test_noise)"
   ]
  },
  {
   "cell_type": "code",
   "execution_count": null,
   "metadata": {},
   "outputs": [],
   "source": [
    "pred_noise = autoencoder.predict(x_test_noise)\n",
    "display(x_test_noise, pred_noise)"
   ]
  },
  {
   "cell_type": "code",
   "execution_count": null,
   "metadata": {},
   "outputs": [],
   "source": []
  }
 ],
 "metadata": {
  "kernelspec": {
   "display_name": "Python 3",
   "language": "python",
   "name": "python3"
  },
  "language_info": {
   "codemirror_mode": {
    "name": "ipython",
    "version": 3
   },
   "file_extension": ".py",
   "mimetype": "text/x-python",
   "name": "python",
   "nbconvert_exporter": "python",
   "pygments_lexer": "ipython3",
   "version": "3.7.11"
  },
  "metadata": {
   "interpreter": {
    "hash": "72994e84d340feb9165995fb1a760e2b280f612914c1004357f918677032ce2d"
   }
  }
 },
 "nbformat": 4,
 "nbformat_minor": 4
}
